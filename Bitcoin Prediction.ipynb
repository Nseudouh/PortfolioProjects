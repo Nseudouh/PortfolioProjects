{
 "cells": [
  {
   "cell_type": "code",
   "execution_count": 2,
   "metadata": {},
   "outputs": [],
   "source": [
    "\n",
    "import numpy as np\n",
    "from sklearn.preprocessing import \\\n",
    "MinMaxScaler\n",
    "from sklearn.ensemble import RandomForestRegressor\n",
    "from sklearn.metrics import mean_squared_error, mean_absolute_error\n",
    "import yfinance as yf\n",
    "%matplotlib inline\n",
    "from matplotlib import pyplot as plt\n",
    "import statsmodels.api as smt\n",
    "import seaborn as sns\n",
    "from sklearn.neighbors import KNeighborsRegressor"
   ]
  },
  {
   "cell_type": "code",
   "execution_count": 3,
   "metadata": {
    "pycharm": {
     "name": "#%%\n"
    }
   },
   "outputs": [
    {
     "name": "stdout",
     "output_type": "stream",
     "text": [
      "[*********************100%***********************]  1 of 1 completed\n"
     ]
    },
    {
     "data": {
      "text/plain": "                 Open       High        Low      Close  Adj Close  Volume\nDate                                                                     \n2022-01-03  98.309998  98.309998  98.294701  98.294701  98.294701     177\n2022-01-04  98.279999  98.291496  98.279999  98.291496  98.291496  356148\n2022-01-05  98.250000  98.269997  98.090103  98.096397  98.096397  356863\n2022-01-06  97.985001  97.985001  97.985001  97.985001  97.985001     104\n2022-01-07  97.894600  97.894600  97.894600  97.894600  97.894600       3",
      "text/html": "<div>\n<style scoped>\n    .dataframe tbody tr th:only-of-type {\n        vertical-align: middle;\n    }\n\n    .dataframe tbody tr th {\n        vertical-align: top;\n    }\n\n    .dataframe thead th {\n        text-align: right;\n    }\n</style>\n<table border=\"1\" class=\"dataframe\">\n  <thead>\n    <tr style=\"text-align: right;\">\n      <th></th>\n      <th>Open</th>\n      <th>High</th>\n      <th>Low</th>\n      <th>Close</th>\n      <th>Adj Close</th>\n      <th>Volume</th>\n    </tr>\n    <tr>\n      <th>Date</th>\n      <th></th>\n      <th></th>\n      <th></th>\n      <th></th>\n      <th></th>\n      <th></th>\n    </tr>\n  </thead>\n  <tbody>\n    <tr>\n      <th>2022-01-03</th>\n      <td>98.309998</td>\n      <td>98.309998</td>\n      <td>98.294701</td>\n      <td>98.294701</td>\n      <td>98.294701</td>\n      <td>177</td>\n    </tr>\n    <tr>\n      <th>2022-01-04</th>\n      <td>98.279999</td>\n      <td>98.291496</td>\n      <td>98.279999</td>\n      <td>98.291496</td>\n      <td>98.291496</td>\n      <td>356148</td>\n    </tr>\n    <tr>\n      <th>2022-01-05</th>\n      <td>98.250000</td>\n      <td>98.269997</td>\n      <td>98.090103</td>\n      <td>98.096397</td>\n      <td>98.096397</td>\n      <td>356863</td>\n    </tr>\n    <tr>\n      <th>2022-01-06</th>\n      <td>97.985001</td>\n      <td>97.985001</td>\n      <td>97.985001</td>\n      <td>97.985001</td>\n      <td>97.985001</td>\n      <td>104</td>\n    </tr>\n    <tr>\n      <th>2022-01-07</th>\n      <td>97.894600</td>\n      <td>97.894600</td>\n      <td>97.894600</td>\n      <td>97.894600</td>\n      <td>97.894600</td>\n      <td>3</td>\n    </tr>\n  </tbody>\n</table>\n</div>"
     },
     "execution_count": 3,
     "metadata": {},
     "output_type": "execute_result"
    }
   ],
   "source": [
    "\n",
    " #BTC download\n",
    "btc_data = yf.download('BTC',start='2022-01-01',end='2022-03-31')\n",
    "btc_data.head()\n"
   ]
  },
  {
   "cell_type": "markdown",
   "metadata": {},
   "source": [
    "### Get the summary statistics of the data"
   ]
  },
  {
   "cell_type": "code",
   "execution_count": 4,
   "outputs": [
    {
     "data": {
      "text/plain": "            Open       High        Low      Close  Adj Close         Volume\ncount  61.000000  61.000000  61.000000  61.000000  61.000000      61.000000\nmean   96.719136  96.729799  96.704259  96.713417  96.713417   14642.426230\nstd     1.016645   1.013351   1.006362   1.001394   1.001394   66530.075216\nmin    94.519997  94.620903  94.519997  94.620903  94.620903       1.000000\n25%    96.261902  96.261902  96.261902  96.261902  96.261902       5.000000\n50%    96.827698  96.827698  96.817802  96.817802  96.817802      31.000000\n75%    97.474197  97.474197  97.474197  97.474197  97.474197     177.000000\nmax    98.309998  98.309998  98.294701  98.294701  98.294701  356863.000000",
      "text/html": "<div>\n<style scoped>\n    .dataframe tbody tr th:only-of-type {\n        vertical-align: middle;\n    }\n\n    .dataframe tbody tr th {\n        vertical-align: top;\n    }\n\n    .dataframe thead th {\n        text-align: right;\n    }\n</style>\n<table border=\"1\" class=\"dataframe\">\n  <thead>\n    <tr style=\"text-align: right;\">\n      <th></th>\n      <th>Open</th>\n      <th>High</th>\n      <th>Low</th>\n      <th>Close</th>\n      <th>Adj Close</th>\n      <th>Volume</th>\n    </tr>\n  </thead>\n  <tbody>\n    <tr>\n      <th>count</th>\n      <td>61.000000</td>\n      <td>61.000000</td>\n      <td>61.000000</td>\n      <td>61.000000</td>\n      <td>61.000000</td>\n      <td>61.000000</td>\n    </tr>\n    <tr>\n      <th>mean</th>\n      <td>96.719136</td>\n      <td>96.729799</td>\n      <td>96.704259</td>\n      <td>96.713417</td>\n      <td>96.713417</td>\n      <td>14642.426230</td>\n    </tr>\n    <tr>\n      <th>std</th>\n      <td>1.016645</td>\n      <td>1.013351</td>\n      <td>1.006362</td>\n      <td>1.001394</td>\n      <td>1.001394</td>\n      <td>66530.075216</td>\n    </tr>\n    <tr>\n      <th>min</th>\n      <td>94.519997</td>\n      <td>94.620903</td>\n      <td>94.519997</td>\n      <td>94.620903</td>\n      <td>94.620903</td>\n      <td>1.000000</td>\n    </tr>\n    <tr>\n      <th>25%</th>\n      <td>96.261902</td>\n      <td>96.261902</td>\n      <td>96.261902</td>\n      <td>96.261902</td>\n      <td>96.261902</td>\n      <td>5.000000</td>\n    </tr>\n    <tr>\n      <th>50%</th>\n      <td>96.827698</td>\n      <td>96.827698</td>\n      <td>96.817802</td>\n      <td>96.817802</td>\n      <td>96.817802</td>\n      <td>31.000000</td>\n    </tr>\n    <tr>\n      <th>75%</th>\n      <td>97.474197</td>\n      <td>97.474197</td>\n      <td>97.474197</td>\n      <td>97.474197</td>\n      <td>97.474197</td>\n      <td>177.000000</td>\n    </tr>\n    <tr>\n      <th>max</th>\n      <td>98.309998</td>\n      <td>98.309998</td>\n      <td>98.294701</td>\n      <td>98.294701</td>\n      <td>98.294701</td>\n      <td>356863.000000</td>\n    </tr>\n  </tbody>\n</table>\n</div>"
     },
     "execution_count": 4,
     "metadata": {},
     "output_type": "execute_result"
    }
   ],
   "source": [
    "\n",
    "btc_data.describe()"
   ],
   "metadata": {
    "collapsed": false,
    "pycharm": {
     "name": "#%%\n"
    }
   }
  },
  {
   "cell_type": "code",
   "execution_count": 5,
   "outputs": [
    {
     "name": "stderr",
     "output_type": "stream",
     "text": [
      "C:\\Users\\nudou\\AppData\\Local\\Temp\\ipykernel_7156\\889858304.py:2: FutureWarning: In a future version of pandas all arguments of DataFrame.drop except for the argument 'labels' will be keyword-only\n",
      "  btc_data = btc_data.drop(['Adj Close'],1)\n"
     ]
    }
   ],
   "source": [
    "#Dropping the Adj close\n",
    "btc_data = btc_data.drop(['Adj Close'],1)\n",
    "#new_df.head()\n"
   ],
   "metadata": {
    "collapsed": false,
    "pycharm": {
     "name": "#%%\n"
    }
   }
  },
  {
   "cell_type": "markdown",
   "source": [],
   "metadata": {
    "collapsed": false
   }
  },
  {
   "cell_type": "raw",
   "source": [
    " Predictive Analytics with Machine Learning"
   ],
   "metadata": {
    "collapsed": false
   }
  },
  {
   "cell_type": "raw",
   "source": [
    "Extracting the independent & target variables"
   ],
   "metadata": {
    "collapsed": false,
    "pycharm": {
     "name": "#%% raw\n"
    }
   }
  },
  {
   "cell_type": "code",
   "execution_count": 6,
   "outputs": [
    {
     "name": "stderr",
     "output_type": "stream",
     "text": [
      "C:\\Users\\nudou\\AppData\\Local\\Temp\\ipykernel_7156\\4201404866.py:1: FutureWarning: In a future version of pandas all arguments of DataFrame.drop except for the argument 'labels' will be keyword-only\n",
      "  x =  np.array(btc_data.drop(['Close'], 1))\n"
     ]
    },
    {
     "data": {
      "text/plain": "array([[9.83099976e+01, 9.83099976e+01, 9.82947006e+01, 1.77000000e+02],\n       [9.82799988e+01, 9.82914963e+01, 9.82799988e+01, 3.56148000e+05],\n       [9.82500000e+01, 9.82699966e+01, 9.80901031e+01, 3.56863000e+05],\n       [9.79850006e+01, 9.79850006e+01, 9.79850006e+01, 1.04000000e+02],\n       [9.78945999e+01, 9.78945999e+01, 9.78945999e+01, 3.00000000e+00],\n       [9.78399963e+01, 9.79000015e+01, 9.78300018e+01, 8.36200000e+03],\n       [9.78499985e+01, 9.79223022e+01, 9.78499985e+01, 1.03000000e+02],\n       [9.79250031e+01, 9.79250031e+01, 9.79199982e+01, 1.04000000e+02],\n       [9.79909973e+01, 9.79909973e+01, 9.79909973e+01, 2.00000000e+00],\n       [9.78085022e+01, 9.78085022e+01, 9.77350006e+01, 1.33000000e+02],\n       [9.74400024e+01, 9.74400024e+01, 9.74106979e+01, 1.63000000e+02],\n       [9.75049973e+01, 9.75049973e+01, 9.74942017e+01, 1.03000000e+02],\n       [9.75026016e+01, 9.75026016e+01, 9.75026016e+01, 2.00000000e+00],\n       [9.76900024e+01, 9.76900024e+01, 9.76900024e+01, 8.40000000e+01],\n       [9.77698975e+01, 9.78399963e+01, 9.77101974e+01, 6.37800000e+03],\n       [9.76700974e+01, 9.76700974e+01, 9.76315994e+01, 1.06000000e+02],\n       [9.73395004e+01, 9.73395004e+01, 9.73395004e+01, 5.00000000e+00],\n       [9.73889999e+01, 9.73889999e+01, 9.73099976e+01, 2.06000000e+02],\n       [9.73109970e+01, 9.74121017e+01, 9.73109970e+01, 9.25000000e+02],\n       [9.74509964e+01, 9.74509964e+01, 9.74173965e+01, 9.35000000e+02],\n       [9.74049988e+01, 9.74049988e+01, 9.74000015e+01, 2.80000000e+02],\n       [9.74741974e+01, 9.74741974e+01, 9.74741974e+01, 4.00000000e+00],\n       [9.73089981e+01, 9.73098984e+01, 9.72549973e+01, 2.21000000e+02],\n       [9.69290009e+01, 9.69290009e+01, 9.69250031e+01, 1.04000000e+02],\n       [9.69504013e+01, 9.69683990e+01, 9.69504013e+01, 5.02000000e+02],\n       [9.68276978e+01, 9.68276978e+01, 9.68276978e+01, 3.00000000e+00],\n       [9.68550034e+01, 9.68550034e+01, 9.68550034e+01, 2.00000000e+00],\n       [9.62837982e+01, 9.62837982e+01, 9.62837982e+01, 2.00000000e+00],\n       [9.66854019e+01, 9.66854019e+01, 9.66854019e+01, 4.00000000e+00],\n       [9.64243011e+01, 9.64243011e+01, 9.64243011e+01, 1.30000000e+01],\n       [9.63590012e+01, 9.63590012e+01, 9.63550034e+01, 1.03000000e+02],\n       [9.64340973e+01, 9.64340973e+01, 9.64340973e+01, 2.00000000e+00],\n       [9.65671997e+01, 9.65671997e+01, 9.65671997e+01, 4.00000000e+00],\n       [9.66423035e+01, 9.66423035e+01, 9.66423035e+01, 2.00000000e+00],\n       [9.65400009e+01, 9.65500031e+01, 9.65239029e+01, 1.56012000e+05],\n       [9.63904037e+01, 9.63904037e+01, 9.63904037e+01, 2.20000000e+01],\n       [9.64815979e+01, 9.64815979e+01, 9.64815979e+01, 4.80000000e+01],\n       [9.64950027e+01, 9.64950027e+01, 9.64950027e+01, 1.00000000e+01],\n       [9.69391022e+01, 9.69391022e+01, 9.69391022e+01, 4.30000000e+01],\n       [9.72799988e+01, 9.72920990e+01, 9.72799988e+01, 1.07000000e+02],\n       [9.70500031e+01, 9.70500031e+01, 9.67510986e+01, 3.16000000e+02],\n       [9.67938004e+01, 9.67938004e+01, 9.67938004e+01, 4.00000000e+00],\n       [9.70563965e+01, 9.70563965e+01, 9.70563965e+01, 1.40000000e+01],\n       [9.68178024e+01, 9.68178024e+01, 9.68178024e+01, 2.00000000e+00],\n       [9.64649963e+01, 9.64649963e+01, 9.64649963e+01, 2.30000000e+01],\n       [9.62619019e+01, 9.62619019e+01, 9.62619019e+01, 3.00000000e+01],\n       [9.60849991e+01, 9.60849991e+01, 9.60849991e+01, 5.00000000e+00],\n       [9.60300980e+01, 9.60300980e+01, 9.60300980e+01, 1.39000000e+02],\n       [9.55593033e+01, 9.55593033e+01, 9.55593033e+01, 3.10000000e+01],\n       [9.55408020e+01, 9.55408020e+01, 9.55408020e+01, 2.60000000e+01],\n       [9.54858017e+01, 9.54858017e+01, 9.54858017e+01, 2.00000000e+01],\n       [9.55998001e+01, 9.55998001e+01, 9.55998001e+01, 2.30000000e+01],\n       [9.57016983e+01, 9.57016983e+01, 9.57016983e+01, 1.10000000e+01],\n       [9.51500015e+01, 9.51691971e+01, 9.51400986e+01, 5.03000000e+02],\n       [9.49970016e+01, 9.49970016e+01, 9.49970016e+01, 7.00000000e+00],\n       [9.52136002e+01, 9.52136002e+01, 9.52136002e+01, 1.00000000e+00],\n       [9.50865021e+01, 9.50865021e+01, 9.50865021e+01, 4.00000000e+00],\n       [9.46209030e+01, 9.46209030e+01, 9.46209030e+01, 5.00000000e+00],\n       [9.46462021e+01, 9.46462021e+01, 9.46462021e+01, 1.10000000e+01],\n       [9.45199966e+01, 9.46470032e+01, 9.45199966e+01, 1.00400000e+03],\n       [9.47109985e+01, 9.48392029e+01, 9.47099991e+01, 2.61500000e+03]])"
     },
     "execution_count": 6,
     "metadata": {},
     "output_type": "execute_result"
    }
   ],
   "source": [
    "x =  np.array(btc_data.drop(['Close'], 1))\n",
    "#print(x)\n",
    "y = np.array(btc_data['Close'])\n",
    "x"
   ],
   "metadata": {
    "collapsed": false,
    "pycharm": {
     "name": "#%%\n"
    }
   }
  },
  {
   "cell_type": "raw",
   "source": [
    "Performing a train-test-split"
   ],
   "metadata": {
    "collapsed": false,
    "pycharm": {
     "name": "#%% raw\n"
    }
   }
  },
  {
   "cell_type": "code",
   "execution_count": 7,
   "outputs": [
    {
     "name": "stdout",
     "output_type": "stream",
     "text": [
      "[96.85500336 96.39040375 94.83920288 96.68540192 97.49420166 98.0963974\n",
      " 96.52390289 94.64700317 96.75109863 97.30989838 97.89459991 97.41069794\n",
      " 96.35500336 96.79380035 96.64230347 96.81780243 95.540802   97.91999817\n",
      " 97.71019745]\n"
     ]
    }
   ],
   "source": [
    "from sklearn.model_selection import train_test_split # Import train_test_split function\n",
    "# Split dataset into training set and test se\n",
    "x_train, x_test, y_train, y_test = train_test_split(x, y, test_size=0.3, random_state=0)# 70% training and 30% test\n",
    "print(y_test)"
   ],
   "metadata": {
    "collapsed": false,
    "pycharm": {
     "name": "#%%\n"
    }
   }
  },
  {
   "cell_type": "code",
   "execution_count": 8,
   "metadata": {
    "pycharm": {
     "name": "#%%\n"
    }
   },
   "outputs": [
    {
     "name": "stdout",
     "output_type": "stream",
     "text": [
      "(12, 30)\n",
      "(12, 1)\n",
      "(31, 30)\n"
     ]
    },
    {
     "name": "stderr",
     "output_type": "stream",
     "text": [
      "C:\\Users\\nudou\\AppData\\Local\\Temp\\ipykernel_7156\\1802469845.py:8: FutureWarning: In a future version of pandas all arguments of DataFrame.drop except for the argument 'labels' will be keyword-only\n",
      "  btc_x_data = btc_data.drop(['Close'],1).to_numpy()\n"
     ]
    }
   ],
   "source": [
    "\n",
    "timestep = 30\n",
    "X_train = []\n",
    "Y_train = []\n",
    "X_test = []\n",
    "Y_test = []\n",
    "btc_x_test = []\n",
    "btc_y_test = []\n",
    "btc_x_data = btc_data.drop(['Close'],1).to_numpy()\n",
    "btc_x_data = btc_x_data.reshape((len(btc_x_data),4))\n",
    "btc_y_data = btc_data['Close']\n",
    "for x in range(timestep,len(x_train)):\n",
    "    X_train.append(x_train[x-timestep:x,3])\n",
    "    Y_train.append(y_train[x])\n",
    "for x in range(timestep,len(x_test)):\n",
    "    X_test.append(x_test[x-timestep:x,3])\n",
    "    Y_test.append(y_test[x])\n",
    "for x in range(timestep,len(btc_x_data)):\n",
    "    btc_x_test.append(btc_x_data[x-timestep:x,3])\n",
    "    btc_y_test.append(btc_y_data[x])\n",
    "X_train, Y_train, X_test, Y_test, btc_x_test, btc_y_test = np.array(X_train), np.array(Y_train).reshape(-1,1),np.array(X_test), np.array(Y_test).reshape(-1,1), np.array(btc_x_test), np.array(btc_y_test).reshape(-1,1)\n",
    "print(X_train.shape)\n",
    "print(Y_train.shape)\n",
    "print(btc_x_test.shape)"
   ]
  },
  {
   "cell_type": "markdown",
   "metadata": {
    "pycharm": {
     "name": "#%% md\n"
    }
   },
   "source": [
    "### Feature scaling"
   ]
  },
  {
   "cell_type": "code",
   "execution_count": 9,
   "metadata": {
    "scrolled": true
   },
   "outputs": [
    {
     "name": "stdout",
     "output_type": "stream",
     "text": [
      "(31, 30)\n",
      "(31, 1)\n",
      "[[0.64918499]\n",
      " [0.67879492]\n",
      " [0.7286237 ]\n",
      " [0.75673985]\n",
      " [0.71241492]\n",
      " [0.66243763]\n",
      " [0.69657745]\n",
      " [0.70159574]\n",
      " [0.86785065]\n",
      " [1.        ]]\n"
     ]
    }
   ],
   "source": [
    "#scaling overall data\n",
    "scaler = MinMaxScaler()\n",
    "\n",
    "#scaling BTC data\n",
    "btc_scaled_x, btc_scaled_y = np.array(scaler.fit_transform(btc_x_test)), np.array(scaler.fit_transform(btc_y_test))\n",
    "print(btc_scaled_x.shape)\n",
    "print(btc_scaled_y.shape)\n",
    "print(btc_scaled_y[:10])"
   ]
  },
  {
   "cell_type": "markdown",
   "metadata": {},
   "source": [
    "### Training a Random Forest Regressor"
   ]
  },
  {
   "cell_type": "code",
   "execution_count": 10,
   "outputs": [
    {
     "name": "stderr",
     "output_type": "stream",
     "text": [
      "C:\\Users\\nudou\\AppData\\Local\\Temp\\ipykernel_7156\\1351166621.py:2: DataConversionWarning: A column-vector y was passed when a 1d array was expected. Please change the shape of y to (n_samples,), for example using ravel().\n",
      "  rfr_model.fit(btc_scaled_x,  btc_scaled_y)\n"
     ]
    },
    {
     "name": "stdout",
     "output_type": "stream",
     "text": [
      "Root Mean Square Error: 0.1024673209445113\n",
      "Mean Absolute Error: 0.08718815756252712\n"
     ]
    }
   ],
   "source": [
    "\n",
    "rfr_model = RandomForestRegressor(n_estimators=300,max_depth=15)\n",
    "rfr_model.fit(btc_scaled_x,  btc_scaled_y)\n",
    "rfr_prediction = rfr_model.predict(btc_scaled_x)\n",
    "#checking for model accuracy\n",
    "rmse = np.sqrt(mean_squared_error(btc_scaled_y, rfr_prediction))\n",
    "mae = mean_absolute_error(btc_scaled_y, rfr_prediction)\n",
    "rfr_prediction = rfr_model.predict(btc_scaled_x)\n",
    "print('Root Mean Square Error:', rmse)\n",
    "print('Mean Absolute Error:', mae)\n"
   ],
   "metadata": {
    "collapsed": false,
    "pycharm": {
     "name": "#%%\n"
    }
   }
  },
  {
   "cell_type": "code",
   "execution_count": 11,
   "outputs": [
    {
     "name": "stdout",
     "output_type": "stream",
     "text": [
      "Explained Variance Score :  0.8768150171514751\n"
     ]
    }
   ],
   "source": [
    "#checking for variance score. The fewer value indicates how bad a model is\n",
    "from sklearn.metrics import explained_variance_score\n",
    "\n",
    "print('Explained Variance Score : ', explained_variance_score(btc_scaled_y, rfr_prediction))"
   ],
   "metadata": {
    "collapsed": false,
    "pycharm": {
     "name": "#%%\n"
    }
   }
  },
  {
   "cell_type": "code",
   "execution_count": 12,
   "outputs": [
    {
     "data": {
      "text/plain": "<Figure size 720x432 with 1 Axes>",
      "image/png": "[encoded data removed]"
     },
     "metadata": {
      "needs_background": "light"
     },
     "output_type": "display_data"
    }
   ],
   "source": [
    "#plotting the graph\n",
    "plt.figure(figsize=(10,6))\n",
    "plt.plot(btc_scaled_y, color = 'red', label = 'Actual Bitcoin Price')\n",
    "plt.plot(rfr_prediction, color = 'blue', label = 'Predicted Bitcoin Price')\n",
    "plt.title('Bitcoin price prediction using random forest')\n",
    "plt.xlabel('Time')\n",
    "plt.ylabel('Price')\n",
    "plt.legend()\n",
    "plt.show()"
   ],
   "metadata": {
    "collapsed": false,
    "pycharm": {
     "name": "#%%\n"
    }
   }
  }
 ],
 "metadata": {
  "kernelspec": {
   "display_name": "Python 3 (ipykernel)",
   "language": "python",
   "name": "python3"
  },
  "language_info": {
   "codemirror_mode": {
    "name": "ipython",
    "version": 3
   },
   "file_extension": ".py",
   "mimetype": "text/x-python",
   "name": "python",
   "nbconvert_exporter": "python",
   "pygments_lexer": "ipython3",
   "version": "3.8.0"
  }
 },
 "nbformat": 4,
 "nbformat_minor": 1
}