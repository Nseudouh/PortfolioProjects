{
 "cells": [
  {
   "cell_type": "code",
   "execution_count": 3,
   "outputs": [],
   "source": [
    "from xgboost import XGBRegressor\n",
    "import pandas as pd\n",
    "import numpy as np\n",
    "from sklearn.model_selection import train_test_split\n",
    "from sklearn.preprocessing import MinMaxScaler\n",
    "from sklearn.metrics import mean_squared_error, mean_absolute_error\n",
    "from sklearn.metrics import explained_variance_score"
   ],
   "metadata": {
    "collapsed": false,
    "pycharm": {
     "name": "#%%\n"
    }
   }
  },
  {
   "cell_type": "code",
   "execution_count": 4,
   "outputs": [
    {
     "data": {
      "text/plain": "         Date         Open         High          Low        Close      Volume  \\\n0  2019-01-01  3746.713379  3850.913818  3707.231201  3843.520020  4324200990   \n1  2019-01-02  3849.216309  3947.981201  3817.409424  3943.409424  5244856836   \n2  2019-01-03  3931.048584  3935.685059  3826.222900  3836.741211  4530215219   \n3  2019-01-04  3832.040039  3865.934570  3783.853760  3857.717529  4847965467   \n4  2019-01-05  3851.973877  3904.903076  3836.900146  3845.194580  5137609824   \n5  2019-01-06  3836.519043  4093.297363  3826.513184  4076.632568  5597027440   \n6  2019-01-07  4078.584961  4092.613525  4020.894043  4025.248291  5228625637   \n7  2019-01-08  4028.472168  4109.020996  3996.955322  4030.847900  5306593305   \n8  2019-01-09  4031.552002  4068.403564  4022.662842  4035.296387  5115905225   \n9  2019-01-10  4034.411377  4064.066650  3659.174561  3678.924561  6874143796   \n10 2019-01-11  3674.015381  3713.881836  3653.069824  3687.365479  5538712865   \n11 2019-01-12  3686.973145  3698.978271  3653.810791  3661.301025  4778170883   \n12 2019-01-13  3658.868164  3674.760010  3544.927246  3552.953125  4681302466   \n13 2019-01-14  3557.311035  3727.836182  3552.285156  3706.052246  5651384490   \n14 2019-01-15  3704.216309  3720.153320  3619.949219  3630.675293  5537192302   \n15 2019-01-16  3631.509766  3685.777100  3624.673340  3655.006836  5394457145   \n16 2019-01-17  3651.871094  3680.135986  3621.960938  3678.563965  5464420383   \n17 2019-01-18  3677.990479  3682.520020  3637.080811  3657.839355  5002961727   \n18 2019-01-19  3652.377930  3758.533447  3652.377930  3728.568359  5955691380   \n19 2019-01-20  3725.446045  3743.387939  3583.019531  3601.013672  5582489560   \n\n    Dividends  Stock Splits     name symbols  \n0           0             0  Bitcoin     BTC  \n1           0             0  Bitcoin     BTC  \n2           0             0  Bitcoin     BTC  \n3           0             0  Bitcoin     BTC  \n4           0             0  Bitcoin     BTC  \n5           0             0  Bitcoin     BTC  \n6           0             0  Bitcoin     BTC  \n7           0             0  Bitcoin     BTC  \n8           0             0  Bitcoin     BTC  \n9           0             0  Bitcoin     BTC  \n10          0             0  Bitcoin     BTC  \n11          0             0  Bitcoin     BTC  \n12          0             0  Bitcoin     BTC  \n13          0             0  Bitcoin     BTC  \n14          0             0  Bitcoin     BTC  \n15          0             0  Bitcoin     BTC  \n16          0             0  Bitcoin     BTC  \n17          0             0  Bitcoin     BTC  \n18          0             0  Bitcoin     BTC  \n19          0             0  Bitcoin     BTC  ",
      "text/html": "<div>\n<style scoped>\n    .dataframe tbody tr th:only-of-type {\n        vertical-align: middle;\n    }\n\n    .dataframe tbody tr th {\n        vertical-align: top;\n    }\n\n    .dataframe thead th {\n        text-align: right;\n    }\n</style>\n<table border=\"1\" class=\"dataframe\">\n  <thead>\n    <tr style=\"text-align: right;\">\n      <th></th>\n      <th>Date</th>\n      <th>Open</th>\n      <th>High</th>\n      <th>Low</th>\n      <th>Close</th>\n      <th>Volume</th>\n      <th>Dividends</th>\n      <th>Stock Splits</th>\n      <th>name</th>\n      <th>symbols</th>\n    </tr>\n  </thead>\n  <tbody>\n    <tr>\n      <th>0</th>\n      <td>2019-01-01</td>\n      <td>3746.713379</td>\n      <td>3850.913818</td>\n      <td>3707.231201</td>\n      <td>3843.520020</td>\n      <td>4324200990</td>\n      <td>0</td>\n      <td>0</td>\n      <td>Bitcoin</td>\n      <td>BTC</td>\n    </tr>\n    <tr>\n      <th>1</th>\n      <td>2019-01-02</td>\n      <td>3849.216309</td>\n      <td>3947.981201</td>\n      <td>3817.409424</td>\n      <td>3943.409424</td>\n      <td>5244856836</td>\n      <td>0</td>\n      <td>0</td>\n      <td>Bitcoin</td>\n      <td>BTC</td>\n    </tr>\n    <tr>\n      <th>2</th>\n      <td>2019-01-03</td>\n      <td>3931.048584</td>\n      <td>3935.685059</td>\n      <td>3826.222900</td>\n      <td>3836.741211</td>\n      <td>4530215219</td>\n      <td>0</td>\n      <td>0</td>\n      <td>Bitcoin</td>\n      <td>BTC</td>\n    </tr>\n    <tr>\n      <th>3</th>\n      <td>2019-01-04</td>\n      <td>3832.040039</td>\n      <td>3865.934570</td>\n      <td>3783.853760</td>\n      <td>3857.717529</td>\n      <td>4847965467</td>\n      <td>0</td>\n      <td>0</td>\n      <td>Bitcoin</td>\n      <td>BTC</td>\n    </tr>\n    <tr>\n      <th>4</th>\n      <td>2019-01-05</td>\n      <td>3851.973877</td>\n      <td>3904.903076</td>\n      <td>3836.900146</td>\n      <td>3845.194580</td>\n      <td>5137609824</td>\n      <td>0</td>\n      <td>0</td>\n      <td>Bitcoin</td>\n      <td>BTC</td>\n    </tr>\n    <tr>\n      <th>5</th>\n      <td>2019-01-06</td>\n      <td>3836.519043</td>\n      <td>4093.297363</td>\n      <td>3826.513184</td>\n      <td>4076.632568</td>\n      <td>5597027440</td>\n      <td>0</td>\n      <td>0</td>\n      <td>Bitcoin</td>\n      <td>BTC</td>\n    </tr>\n    <tr>\n      <th>6</th>\n      <td>2019-01-07</td>\n      <td>4078.584961</td>\n      <td>4092.613525</td>\n      <td>4020.894043</td>\n      <td>4025.248291</td>\n      <td>5228625637</td>\n      <td>0</td>\n      <td>0</td>\n      <td>Bitcoin</td>\n      <td>BTC</td>\n    </tr>\n    <tr>\n      <th>7</th>\n      <td>2019-01-08</td>\n      <td>4028.472168</td>\n      <td>4109.020996</td>\n      <td>3996.955322</td>\n      <td>4030.847900</td>\n      <td>5306593305</td>\n      <td>0</td>\n      <td>0</td>\n      <td>Bitcoin</td>\n      <td>BTC</td>\n    </tr>\n    <tr>\n      <th>8</th>\n      <td>2019-01-09</td>\n      <td>4031.552002</td>\n      <td>4068.403564</td>\n      <td>4022.662842</td>\n      <td>4035.296387</td>\n      <td>5115905225</td>\n      <td>0</td>\n      <td>0</td>\n      <td>Bitcoin</td>\n      <td>BTC</td>\n    </tr>\n    <tr>\n      <th>9</th>\n      <td>2019-01-10</td>\n      <td>4034.411377</td>\n      <td>4064.066650</td>\n      <td>3659.174561</td>\n      <td>3678.924561</td>\n      <td>6874143796</td>\n      <td>0</td>\n      <td>0</td>\n      <td>Bitcoin</td>\n      <td>BTC</td>\n    </tr>\n    <tr>\n      <th>10</th>\n      <td>2019-01-11</td>\n      <td>3674.015381</td>\n      <td>3713.881836</td>\n      <td>3653.069824</td>\n      <td>3687.365479</td>\n      <td>5538712865</td>\n      <td>0</td>\n      <td>0</td>\n      <td>Bitcoin</td>\n      <td>BTC</td>\n    </tr>\n    <tr>\n      <th>11</th>\n      <td>2019-01-12</td>\n      <td>3686.973145</td>\n      <td>3698.978271</td>\n      <td>3653.810791</td>\n      <td>3661.301025</td>\n      <td>4778170883</td>\n      <td>0</td>\n      <td>0</td>\n      <td>Bitcoin</td>\n      <td>BTC</td>\n    </tr>\n    <tr>\n      <th>12</th>\n      <td>2019-01-13</td>\n      <td>3658.868164</td>\n      <td>3674.760010</td>\n      <td>3544.927246</td>\n      <td>3552.953125</td>\n      <td>4681302466</td>\n      <td>0</td>\n      <td>0</td>\n      <td>Bitcoin</td>\n      <td>BTC</td>\n    </tr>\n    <tr>\n      <th>13</th>\n      <td>2019-01-14</td>\n      <td>3557.311035</td>\n      <td>3727.836182</td>\n      <td>3552.285156</td>\n      <td>3706.052246</td>\n      <td>5651384490</td>\n      <td>0</td>\n      <td>0</td>\n      <td>Bitcoin</td>\n      <td>BTC</td>\n    </tr>\n    <tr>\n      <th>14</th>\n      <td>2019-01-15</td>\n      <td>3704.216309</td>\n      <td>3720.153320</td>\n      <td>3619.949219</td>\n      <td>3630.675293</td>\n      <td>5537192302</td>\n      <td>0</td>\n      <td>0</td>\n      <td>Bitcoin</td>\n      <td>BTC</td>\n    </tr>\n    <tr>\n      <th>15</th>\n      <td>2019-01-16</td>\n      <td>3631.509766</td>\n      <td>3685.777100</td>\n      <td>3624.673340</td>\n      <td>3655.006836</td>\n      <td>5394457145</td>\n      <td>0</td>\n      <td>0</td>\n      <td>Bitcoin</td>\n      <td>BTC</td>\n    </tr>\n    <tr>\n      <th>16</th>\n      <td>2019-01-17</td>\n      <td>3651.871094</td>\n      <td>3680.135986</td>\n      <td>3621.960938</td>\n      <td>3678.563965</td>\n      <td>5464420383</td>\n      <td>0</td>\n      <td>0</td>\n      <td>Bitcoin</td>\n      <td>BTC</td>\n    </tr>\n    <tr>\n      <th>17</th>\n      <td>2019-01-18</td>\n      <td>3677.990479</td>\n      <td>3682.520020</td>\n      <td>3637.080811</td>\n      <td>3657.839355</td>\n      <td>5002961727</td>\n      <td>0</td>\n      <td>0</td>\n      <td>Bitcoin</td>\n      <td>BTC</td>\n    </tr>\n    <tr>\n      <th>18</th>\n      <td>2019-01-19</td>\n      <td>3652.377930</td>\n      <td>3758.533447</td>\n      <td>3652.377930</td>\n      <td>3728.568359</td>\n      <td>5955691380</td>\n      <td>0</td>\n      <td>0</td>\n      <td>Bitcoin</td>\n      <td>BTC</td>\n    </tr>\n    <tr>\n      <th>19</th>\n      <td>2019-01-20</td>\n      <td>3725.446045</td>\n      <td>3743.387939</td>\n      <td>3583.019531</td>\n      <td>3601.013672</td>\n      <td>5582489560</td>\n      <td>0</td>\n      <td>0</td>\n      <td>Bitcoin</td>\n      <td>BTC</td>\n    </tr>\n  </tbody>\n</table>\n</div>"
     },
     "execution_count": 4,
     "metadata": {},
     "output_type": "execute_result"
    }
   ],
   "source": [
    "new_df = pd.read_csv(\"Crypto data.csv\")\n",
    "new_df[\"Date\"] = pd.to_datetime(new_df[\"Date\"])\n",
    "new_df.head(20)"
   ],
   "metadata": {
    "collapsed": false,
    "pycharm": {
     "name": "#%%\n"
    }
   }
  },
  {
   "cell_type": "code",
   "execution_count": 5,
   "outputs": [
    {
     "data": {
      "text/plain": "            Date      Open      High       Low     Close      Volume  \\\n10427 2019-01-01  0.040984  0.042547  0.040308  0.042547    14962902   \n10428 2019-01-02  0.042568  0.045563  0.041982  0.045258    24151526   \n10429 2019-01-03  0.045106  0.045259  0.042535  0.042682    21126963   \n10430 2019-01-04  0.042629  0.044092  0.042477  0.043812    16024029   \n10431 2019-01-05  0.043659  0.045570  0.043350  0.044701    25100965   \n...          ...       ...       ...       ...       ...         ...   \n11629 2022-04-17  0.952531  0.961512  0.915346  0.917466   528371933   \n11630 2022-04-18  0.917509  0.937368  0.877736  0.936730  1105222191   \n11631 2022-04-19  0.936762  0.954662  0.928201  0.953333   777142382   \n11632 2022-04-20  0.953325  0.974735  0.932510  0.937341   828312845   \n11633 2022-04-21  0.937272  0.969453  0.896912  0.910474   871111347   \n\n       Dividends  Stock Splits    name symbols  \n10427          0             0  Cadano     ADA  \n10428          0             0  Cadano     ADA  \n10429          0             0  Cadano     ADA  \n10430          0             0  Cadano     ADA  \n10431          0             0  Cadano     ADA  \n...          ...           ...     ...     ...  \n11629          0             0  Cadano     ADA  \n11630          0             0  Cadano     ADA  \n11631          0             0  Cadano     ADA  \n11632          0             0  Cadano     ADA  \n11633          0             0  Cadano     ADA  \n\n[1207 rows x 10 columns]",
      "text/html": "<div>\n<style scoped>\n    .dataframe tbody tr th:only-of-type {\n        vertical-align: middle;\n    }\n\n    .dataframe tbody tr th {\n        vertical-align: top;\n    }\n\n    .dataframe thead th {\n        text-align: right;\n    }\n</style>\n<table border=\"1\" class=\"dataframe\">\n  <thead>\n    <tr style=\"text-align: right;\">\n      <th></th>\n      <th>Date</th>\n      <th>Open</th>\n      <th>High</th>\n      <th>Low</th>\n      <th>Close</th>\n      <th>Volume</th>\n      <th>Dividends</th>\n      <th>Stock Splits</th>\n      <th>name</th>\n      <th>symbols</th>\n    </tr>\n  </thead>\n  <tbody>\n    <tr>\n      <th>10427</th>\n      <td>2019-01-01</td>\n      <td>0.040984</td>\n      <td>0.042547</td>\n      <td>0.040308</td>\n      <td>0.042547</td>\n      <td>14962902</td>\n      <td>0</td>\n      <td>0</td>\n      <td>Cadano</td>\n      <td>ADA</td>\n    </tr>\n    <tr>\n      <th>10428</th>\n      <td>2019-01-02</td>\n      <td>0.042568</td>\n      <td>0.045563</td>\n      <td>0.041982</td>\n      <td>0.045258</td>\n      <td>24151526</td>\n      <td>0</td>\n      <td>0</td>\n      <td>Cadano</td>\n      <td>ADA</td>\n    </tr>\n    <tr>\n      <th>10429</th>\n      <td>2019-01-03</td>\n      <td>0.045106</td>\n      <td>0.045259</td>\n      <td>0.042535</td>\n      <td>0.042682</td>\n      <td>21126963</td>\n      <td>0</td>\n      <td>0</td>\n      <td>Cadano</td>\n      <td>ADA</td>\n    </tr>\n    <tr>\n      <th>10430</th>\n      <td>2019-01-04</td>\n      <td>0.042629</td>\n      <td>0.044092</td>\n      <td>0.042477</td>\n      <td>0.043812</td>\n      <td>16024029</td>\n      <td>0</td>\n      <td>0</td>\n      <td>Cadano</td>\n      <td>ADA</td>\n    </tr>\n    <tr>\n      <th>10431</th>\n      <td>2019-01-05</td>\n      <td>0.043659</td>\n      <td>0.045570</td>\n      <td>0.043350</td>\n      <td>0.044701</td>\n      <td>25100965</td>\n      <td>0</td>\n      <td>0</td>\n      <td>Cadano</td>\n      <td>ADA</td>\n    </tr>\n    <tr>\n      <th>...</th>\n      <td>...</td>\n      <td>...</td>\n      <td>...</td>\n      <td>...</td>\n      <td>...</td>\n      <td>...</td>\n      <td>...</td>\n      <td>...</td>\n      <td>...</td>\n      <td>...</td>\n    </tr>\n    <tr>\n      <th>11629</th>\n      <td>2022-04-17</td>\n      <td>0.952531</td>\n      <td>0.961512</td>\n      <td>0.915346</td>\n      <td>0.917466</td>\n      <td>528371933</td>\n      <td>0</td>\n      <td>0</td>\n      <td>Cadano</td>\n      <td>ADA</td>\n    </tr>\n    <tr>\n      <th>11630</th>\n      <td>2022-04-18</td>\n      <td>0.917509</td>\n      <td>0.937368</td>\n      <td>0.877736</td>\n      <td>0.936730</td>\n      <td>1105222191</td>\n      <td>0</td>\n      <td>0</td>\n      <td>Cadano</td>\n      <td>ADA</td>\n    </tr>\n    <tr>\n      <th>11631</th>\n      <td>2022-04-19</td>\n      <td>0.936762</td>\n      <td>0.954662</td>\n      <td>0.928201</td>\n      <td>0.953333</td>\n      <td>777142382</td>\n      <td>0</td>\n      <td>0</td>\n      <td>Cadano</td>\n      <td>ADA</td>\n    </tr>\n    <tr>\n      <th>11632</th>\n      <td>2022-04-20</td>\n      <td>0.953325</td>\n      <td>0.974735</td>\n      <td>0.932510</td>\n      <td>0.937341</td>\n      <td>828312845</td>\n      <td>0</td>\n      <td>0</td>\n      <td>Cadano</td>\n      <td>ADA</td>\n    </tr>\n    <tr>\n      <th>11633</th>\n      <td>2022-04-21</td>\n      <td>0.937272</td>\n      <td>0.969453</td>\n      <td>0.896912</td>\n      <td>0.910474</td>\n      <td>871111347</td>\n      <td>0</td>\n      <td>0</td>\n      <td>Cadano</td>\n      <td>ADA</td>\n    </tr>\n  </tbody>\n</table>\n<p>1207 rows × 10 columns</p>\n</div>"
     },
     "execution_count": 5,
     "metadata": {},
     "output_type": "execute_result"
    }
   ],
   "source": [
    "Ada = new_df[new_df[\"symbols\"]== \"ADA\"].copy()\n",
    "new_ada = pd.DataFrame(Ada)\n",
    "new_ada"
   ],
   "metadata": {
    "collapsed": false,
    "pycharm": {
     "name": "#%%\n"
    }
   }
  },
  {
   "cell_type": "code",
   "execution_count": 6,
   "outputs": [
    {
     "data": {
      "text/plain": "              Open         High          Low        Close        Volume  \\\ncount  1207.000000  1207.000000  1207.000000  1207.000000  1.207000e+03   \nmean      0.592888     0.618253     0.566352     0.593653  1.569623e+09   \nstd       0.742570     0.773773     0.709357     0.742601  2.428508e+09   \nmin       0.023954     0.025993     0.019130     0.023961  1.101152e+07   \n25%       0.049988     0.051733     0.048424     0.050127  8.828525e+07   \n50%       0.103097     0.106979     0.100179     0.104008  4.778389e+08   \n75%       1.185676     1.225057     1.142402     1.185525  2.095375e+09   \nmax       2.966390     3.099186     2.907606     2.968239  1.914198e+10   \n\n       Dividends  Stock Splits  \ncount     1207.0        1207.0  \nmean         0.0           0.0  \nstd          0.0           0.0  \nmin          0.0           0.0  \n25%          0.0           0.0  \n50%          0.0           0.0  \n75%          0.0           0.0  \nmax          0.0           0.0  ",
      "text/html": "<div>\n<style scoped>\n    .dataframe tbody tr th:only-of-type {\n        vertical-align: middle;\n    }\n\n    .dataframe tbody tr th {\n        vertical-align: top;\n    }\n\n    .dataframe thead th {\n        text-align: right;\n    }\n</style>\n<table border=\"1\" class=\"dataframe\">\n  <thead>\n    <tr style=\"text-align: right;\">\n      <th></th>\n      <th>Open</th>\n      <th>High</th>\n      <th>Low</th>\n      <th>Close</th>\n      <th>Volume</th>\n      <th>Dividends</th>\n      <th>Stock Splits</th>\n    </tr>\n  </thead>\n  <tbody>\n    <tr>\n      <th>count</th>\n      <td>1207.000000</td>\n      <td>1207.000000</td>\n      <td>1207.000000</td>\n      <td>1207.000000</td>\n      <td>1.207000e+03</td>\n      <td>1207.0</td>\n      <td>1207.0</td>\n    </tr>\n    <tr>\n      <th>mean</th>\n      <td>0.592888</td>\n      <td>0.618253</td>\n      <td>0.566352</td>\n      <td>0.593653</td>\n      <td>1.569623e+09</td>\n      <td>0.0</td>\n      <td>0.0</td>\n    </tr>\n    <tr>\n      <th>std</th>\n      <td>0.742570</td>\n      <td>0.773773</td>\n      <td>0.709357</td>\n      <td>0.742601</td>\n      <td>2.428508e+09</td>\n      <td>0.0</td>\n      <td>0.0</td>\n    </tr>\n    <tr>\n      <th>min</th>\n      <td>0.023954</td>\n      <td>0.025993</td>\n      <td>0.019130</td>\n      <td>0.023961</td>\n      <td>1.101152e+07</td>\n      <td>0.0</td>\n      <td>0.0</td>\n    </tr>\n    <tr>\n      <th>25%</th>\n      <td>0.049988</td>\n      <td>0.051733</td>\n      <td>0.048424</td>\n      <td>0.050127</td>\n      <td>8.828525e+07</td>\n      <td>0.0</td>\n      <td>0.0</td>\n    </tr>\n    <tr>\n      <th>50%</th>\n      <td>0.103097</td>\n      <td>0.106979</td>\n      <td>0.100179</td>\n      <td>0.104008</td>\n      <td>4.778389e+08</td>\n      <td>0.0</td>\n      <td>0.0</td>\n    </tr>\n    <tr>\n      <th>75%</th>\n      <td>1.185676</td>\n      <td>1.225057</td>\n      <td>1.142402</td>\n      <td>1.185525</td>\n      <td>2.095375e+09</td>\n      <td>0.0</td>\n      <td>0.0</td>\n    </tr>\n    <tr>\n      <th>max</th>\n      <td>2.966390</td>\n      <td>3.099186</td>\n      <td>2.907606</td>\n      <td>2.968239</td>\n      <td>1.914198e+10</td>\n      <td>0.0</td>\n      <td>0.0</td>\n    </tr>\n  </tbody>\n</table>\n</div>"
     },
     "execution_count": 6,
     "metadata": {},
     "output_type": "execute_result"
    }
   ],
   "source": [
    "new_ada. describe()"
   ],
   "metadata": {
    "collapsed": false,
    "pycharm": {
     "name": "#%%\n"
    }
   }
  },
  {
   "cell_type": "code",
   "execution_count": 7,
   "outputs": [
    {
     "data": {
      "text/plain": "           Open      High       Low     Close    Volume\n10427  0.040984  0.042547  0.040308  0.042547  14962902\n10428  0.042568  0.045563  0.041982  0.045258  24151526\n10429  0.045106  0.045259  0.042535  0.042682  21126963\n10430  0.042629  0.044092  0.042477  0.043812  16024029\n10431  0.043659  0.045570  0.043350  0.044701  25100965",
      "text/html": "<div>\n<style scoped>\n    .dataframe tbody tr th:only-of-type {\n        vertical-align: middle;\n    }\n\n    .dataframe tbody tr th {\n        vertical-align: top;\n    }\n\n    .dataframe thead th {\n        text-align: right;\n    }\n</style>\n<table border=\"1\" class=\"dataframe\">\n  <thead>\n    <tr style=\"text-align: right;\">\n      <th></th>\n      <th>Open</th>\n      <th>High</th>\n      <th>Low</th>\n      <th>Close</th>\n      <th>Volume</th>\n    </tr>\n  </thead>\n  <tbody>\n    <tr>\n      <th>10427</th>\n      <td>0.040984</td>\n      <td>0.042547</td>\n      <td>0.040308</td>\n      <td>0.042547</td>\n      <td>14962902</td>\n    </tr>\n    <tr>\n      <th>10428</th>\n      <td>0.042568</td>\n      <td>0.045563</td>\n      <td>0.041982</td>\n      <td>0.045258</td>\n      <td>24151526</td>\n    </tr>\n    <tr>\n      <th>10429</th>\n      <td>0.045106</td>\n      <td>0.045259</td>\n      <td>0.042535</td>\n      <td>0.042682</td>\n      <td>21126963</td>\n    </tr>\n    <tr>\n      <th>10430</th>\n      <td>0.042629</td>\n      <td>0.044092</td>\n      <td>0.042477</td>\n      <td>0.043812</td>\n      <td>16024029</td>\n    </tr>\n    <tr>\n      <th>10431</th>\n      <td>0.043659</td>\n      <td>0.045570</td>\n      <td>0.043350</td>\n      <td>0.044701</td>\n      <td>25100965</td>\n    </tr>\n  </tbody>\n</table>\n</div>"
     },
     "execution_count": 7,
     "metadata": {},
     "output_type": "execute_result"
    }
   ],
   "source": [
    "#Dropping the dropping the unnecessary data\n",
    "new_ada.drop(['name', 'Date', \"Dividends\" , \"Stock Splits\", \"symbols\" ], axis = 1, inplace = True)\n",
    "\n",
    "new_ada.head()"
   ],
   "metadata": {
    "collapsed": false,
    "pycharm": {
     "name": "#%%\n"
    }
   }
  },
  {
   "cell_type": "code",
   "execution_count": 8,
   "outputs": [
    {
     "name": "stderr",
     "output_type": "stream",
     "text": [
      "C:\\Users\\nudou\\AppData\\Local\\Temp\\ipykernel_20024\\545680320.py:2: FutureWarning: In a future version of pandas all arguments of DataFrame.drop except for the argument 'labels' will be keyword-only\n",
      "  x =  np.array(new_ada.drop(['Close'], 1))\n"
     ]
    }
   ],
   "source": [
    "#extracting the independent and dependent variable\n",
    "x =  np.array(new_ada.drop(['Close'], 1))\n",
    "#print(x)\n",
    "y = np.array(new_ada['Close'])"
   ],
   "metadata": {
    "collapsed": false,
    "pycharm": {
     "name": "#%%\n"
    }
   }
  },
  {
   "cell_type": "code",
   "execution_count": 9,
   "outputs": [
    {
     "name": "stdout",
     "output_type": "stream",
     "text": [
      "[0.138303   0.049261   0.077955   0.028249   0.046163   0.049664\n",
      " 0.036048   1.39439702 0.044172   0.039532   0.036559   0.083472\n",
      " 1.68642294 1.05026698 1.06671596 1.46554101 0.085442   0.0795\n",
      " 0.059466   0.29998001 1.35424805 2.10856009 0.033215   1.36203003\n",
      " 0.105866   2.91738605 0.133505   0.058772   0.122688   1.18913996\n",
      " 0.125214   0.123773   0.083445   0.034462   0.04281    0.043873\n",
      " 1.05165696 0.031984   0.0406     0.106104   1.34175706 0.110572\n",
      " 1.40311801 0.108083   2.33094096 1.24053395 0.95982802 1.41178596\n",
      " 0.041967   0.04575    0.045879   2.30154109 1.16852295 0.082817\n",
      " 0.038229   0.066146   0.044043   0.046601   0.137398   0.104525\n",
      " 2.502491   0.041058   1.37697506 0.053793   1.75050294 0.041495\n",
      " 1.59413099 0.12927499 0.08387    0.092143   0.106621   0.05864\n",
      " 1.37758398 2.36997795 0.08069    0.050932   1.31772995 0.052169\n",
      " 0.044328   0.042297   0.04941    0.049767   0.036198   0.044437\n",
      " 1.98620605 1.76407695 0.153964   1.48252106 0.096348   0.096578\n",
      " 2.10180211 0.047677   0.402033   0.171308   2.43543506 0.104008\n",
      " 0.032845   1.407251   0.346129   2.21465111 0.059429   0.122965\n",
      " 0.048761   0.080428   1.65012395 0.052561   0.038827   0.05979\n",
      " 0.99770302 0.85833502 0.104064   0.050207   0.03418    0.046931\n",
      " 0.086654   1.17872    0.040547   0.032295   0.80391699 1.173715\n",
      " 2.13590503 2.83280706 0.093056   0.077335   0.059046   1.65134501\n",
      " 1.59285498 2.19721389 0.047195   0.029414   0.103097   0.037857\n",
      " 0.033632   0.063228   0.05126    0.096152   0.094856   0.97469598\n",
      " 1.921736   0.055996   1.05644405 0.046158   0.087965   1.147017\n",
      " 1.30217004 0.035616   1.13562405 0.033728   0.105221   1.984882\n",
      " 1.67256606 2.25287294 2.39563799 0.083116   0.040605   2.17036295\n",
      " 0.096538   0.060152   0.887918   0.038772   0.096989   1.96502602\n",
      " 0.033354   0.079028   1.24295294 0.82375199 0.20499501 0.043119\n",
      " 0.15351    1.09189403 0.077774   0.14301801 2.38591099 0.047397\n",
      " 0.055768   0.107388   0.044147   1.365026   0.084617   0.056875\n",
      " 0.123712   0.096994   0.039649   0.038678   0.042843   0.045932\n",
      " 0.07947    0.05343    2.00479603 1.10748196 0.024121   0.035816\n",
      " 0.37142801 1.10987401 0.076748   0.078387   2.06568789 0.081754\n",
      " 0.045258   1.57510996 0.049195   1.77655494 0.044581   0.081691\n",
      " 0.115613   0.95264    1.20673501 0.089      0.037871   0.040623\n",
      " 0.083531   0.043123   0.068581   1.10135496 1.30805898 0.044777\n",
      " 1.16542494 0.036409   1.25289595 0.31308001 0.095376   0.0332\n",
      " 0.079603   1.74277794 2.15419888 1.08498096 0.067595   0.069754\n",
      " 1.61955404 0.051106   0.143573   2.4006629  0.079964   2.18595004\n",
      " 0.084643   0.15782399 0.042838   0.037486   0.044697   0.353881\n",
      " 0.133642   0.101062   0.148241   0.026009   0.16471399 0.092808\n",
      " 1.39707398 0.040425   0.061704   2.16681504 1.51198697 2.45770192\n",
      " 0.53787398 0.164212   0.034281   0.137436   1.93366802 0.88901699\n",
      " 0.041636   1.42070603 1.83976305 0.093369   0.046198   1.15247798\n",
      " 0.051922   2.53552794 0.99711299 0.050463   0.069858   1.13101196\n",
      " 0.157564   1.31020904 0.910474   1.19112396 0.13639399 0.790995\n",
      " 0.93241203 1.27978206 1.12734497 1.33608496 0.087009   0.034269\n",
      " 1.32163703 2.01558709 0.052052   0.043637   0.082998   0.83837402\n",
      " 0.048945   0.36261901 0.125411   0.094217   1.29626298 0.096357\n",
      " 0.025336   0.063781   0.039396   0.052594   1.16809797 0.68251097\n",
      " 0.141994   1.09915102 0.043291   2.11445189 0.045654   2.42813993\n",
      " 0.056364   0.30559701 0.030451   0.068591   0.15288299 0.038816\n",
      " 0.106391   0.064559   2.84749007 0.042682   0.84288901 0.164988\n",
      " 0.081077   1.20630705 1.20254099 0.06151    0.16348299 0.28700301\n",
      " 0.053514   1.31165802 0.045825   0.074106   1.32234502 2.13659096\n",
      " 1.33561099 0.037483   2.13607907 0.14445999 0.192164   1.25647795\n",
      " 0.062958   1.22850096 0.042944   0.054252   1.21396899 0.038885\n",
      " 2.04576612 0.091683   0.925587   1.35307097 1.75282395 1.45349503\n",
      " 1.406232   1.21989202 0.123922   0.118226   0.080476   1.48021996\n",
      " 0.093434   0.15799201 1.34947395 0.102494   0.043492   0.057763\n",
      " 1.30453503 1.18751204 0.034284  ]\n"
     ]
    }
   ],
   "source": [
    "x_train, x_test, y_train, y_test = train_test_split(x, y, test_size=0.3, random_state=0)# 70% training and 30% test\n",
    "print(y_test)"
   ],
   "metadata": {
    "collapsed": false,
    "pycharm": {
     "name": "#%%\n"
    }
   }
  },
  {
   "cell_type": "code",
   "execution_count": 10,
   "outputs": [],
   "source": [
    "scaler = MinMaxScaler()\n",
    "scaled_x_train = scaler.fit_transform(x_train)\n",
    "scaled_x_test = scaler.fit_transform(x_test)\n",
    "scaled_y_train = scaler.fit_transform(np.array(y_train).reshape(-1, 1))\n",
    "scaled_y_test = scaler.fit_transform(np.array(y_test).reshape(-1, 1))"
   ],
   "metadata": {
    "collapsed": false,
    "pycharm": {
     "name": "#%%\n"
    }
   }
  },
  {
   "cell_type": "raw",
   "source": [
    "XGBOOST REGRESSION"
   ],
   "metadata": {
    "collapsed": false,
    "pycharm": {
     "name": "#%% raw\n"
    }
   }
  },
  {
   "cell_type": "code",
   "execution_count": 11,
   "outputs": [
    {
     "name": "stdout",
     "output_type": "stream",
     "text": [
      "Root Mean Square Error: 0.015298230269857487\n",
      "Mean Absolute Error: 0.007542214898754753\n"
     ]
    }
   ],
   "source": [
    "\n",
    "# Training the model\n",
    "xgb_model = XGBRegressor(n_estimators=10000, max_depth=7, eta=0.1, subsample=0.7, colsample_bytree=0.8)\n",
    "\n",
    "xgb_model.fit(scaled_x_train, scaled_y_train)\n",
    "xgb_prediction = xgb_model.predict(scaled_x_test)\n",
    "\n",
    "#checking for model accuracy\n",
    "rmse = np.sqrt(mean_squared_error(scaled_y_test, xgb_prediction))\n",
    "mae = mean_absolute_error(scaled_y_test, xgb_prediction)\n",
    "\n",
    "print('Root Mean Square Error:', rmse)\n",
    "print('Mean Absolute Error:', mae)\n",
    "\n",
    "\n",
    "\n"
   ],
   "metadata": {
    "collapsed": false,
    "pycharm": {
     "name": "#%%\n"
    }
   }
  },
  {
   "cell_type": "code",
   "execution_count": 12,
   "outputs": [
    {
     "name": "stdout",
     "output_type": "stream",
     "text": [
      "[0.0406671  0.00722635 0.01904053 0.00091289 0.00717844 0.00787008\n",
      " 0.00321725 0.47854513 0.00626721 0.00477231]\n",
      "[[3.84454413e-02 3.89742336e-02 4.12893056e-02 2.03772608e-02]\n",
      " [6.62999017e-03 8.03833572e-03 8.06639654e-03 2.45742488e-03]\n",
      " [2.01939284e-02 2.02172093e-02 1.98924958e-02 7.33336482e-03]\n",
      " [1.53985746e-03 1.31093802e-03 2.15388406e-03 3.66344079e-03]\n",
      " [6.74286927e-03 6.85726717e-03 8.11266627e-03 3.91767091e-04]\n",
      " [8.07668816e-03 8.23925966e-03 8.71704556e-03 9.87207465e-03]\n",
      " [3.51355408e-03 3.80464423e-03 3.98710692e-03 5.23784785e-03]\n",
      " [4.44628554e-01 4.65221230e-01 4.53512699e-01 1.31765488e-01]\n",
      " [6.38144968e-03 6.34458657e-03 7.63669523e-03 3.09626834e-03]\n",
      " [4.42713262e-03 4.73617169e-03 5.37628243e-03 4.25491768e-03]]\n",
      "[0.0406671  0.00722635 0.01904053 0.00091289 0.00717844 0.00787008\n",
      " 0.00321725 0.47854513 0.00626721 0.00477231]\n",
      "[[3.84454413e-02 3.89742336e-02 4.12893056e-02 2.03772608e-02]\n",
      " [6.62999017e-03 8.03833572e-03 8.06639654e-03 2.45742488e-03]\n",
      " [2.01939284e-02 2.02172093e-02 1.98924958e-02 7.33336482e-03]\n",
      " [1.53985746e-03 1.31093802e-03 2.15388406e-03 3.66344079e-03]\n",
      " [6.74286927e-03 6.85726717e-03 8.11266627e-03 3.91767091e-04]\n",
      " [8.07668816e-03 8.23925966e-03 8.71704556e-03 9.87207465e-03]\n",
      " [3.51355408e-03 3.80464423e-03 3.98710692e-03 5.23784785e-03]\n",
      " [4.44628554e-01 4.65221230e-01 4.53512699e-01 1.31765488e-01]\n",
      " [6.38144968e-03 6.34458657e-03 7.63669523e-03 3.09626834e-03]\n",
      " [4.42713262e-03 4.73617169e-03 5.37628243e-03 4.25491768e-03]]\n",
      "Test R^2     : 0.997\n",
      "Test R^2     : 0.997\n",
      "Training R^2 : 1.000\n"
     ]
    }
   ],
   "source": [
    "#checking for accuracy score\n",
    "\n",
    "print(xgb_prediction[:10])\n",
    "print(scaled_x_test[:10])\n",
    "\n",
    "from sklearn.metrics import r2_score\n",
    "\n",
    "rfr_prediction = xgb_model.predict(scaled_x_test)\n",
    "\n",
    "\n",
    "print(rfr_prediction[:10])\n",
    "print(scaled_x_test[:10])\n",
    "\n",
    "print('Test R^2     : %.3f'%r2_score(scaled_y_test, xgb_prediction))\n",
    "print('Test R^2     : %.3f'%xgb_model.score(scaled_x_test, scaled_y_test))\n",
    "print('Training R^2 : %.3f'%xgb_model.score(scaled_x_train, scaled_y_train))\n",
    "\n"
   ],
   "metadata": {
    "collapsed": false,
    "pycharm": {
     "name": "#%%\n"
    }
   }
  },
  {
   "cell_type": "code",
   "execution_count": 12,
   "outputs": [],
   "source": [],
   "metadata": {
    "collapsed": false,
    "pycharm": {
     "name": "#%%\n"
    }
   }
  }
 ],
 "metadata": {
  "kernelspec": {
   "display_name": "Python 3",
   "language": "python",
   "name": "python3"
  },
  "language_info": {
   "codemirror_mode": {
    "name": "ipython",
    "version": 2
   },
   "file_extension": ".py",
   "mimetype": "text/x-python",
   "name": "python",
   "nbconvert_exporter": "python",
   "pygments_lexer": "ipython2",
   "version": "2.7.6"
  }
 },
 "nbformat": 4,
 "nbformat_minor": 0
}